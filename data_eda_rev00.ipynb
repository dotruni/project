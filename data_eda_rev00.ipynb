{
  "nbformat": 4,
  "nbformat_minor": 0,
  "metadata": {
    "colab": {
      "name": "data_eda_rev00.ipynb",
      "private_outputs": true,
      "provenance": [],
      "collapsed_sections": [],
      "include_colab_link": true
    },
    "kernelspec": {
      "name": "python3",
      "display_name": "Python 3"
    },
    "language_info": {
      "name": "python"
    },
    "accelerator": "GPU"
  },
  "cells": [
    {
      "cell_type": "markdown",
      "metadata": {
        "id": "view-in-github",
        "colab_type": "text"
      },
      "source": [
        "<a href=\"https://colab.research.google.com/github/dotruni/project/blob/main/data_eda_rev00.ipynb\" target=\"_parent\"><img src=\"https://colab.research.google.com/assets/colab-badge.svg\" alt=\"Open In Colab\"/></a>"
      ]
    },
    {
      "cell_type": "markdown",
      "source": [
        "### 패키지 설치"
      ],
      "metadata": {
        "id": "JRIV6IlVra3G"
      }
    },
    {
      "cell_type": "code",
      "source": [
        "!pip3 install --upgrade torch torchvision\n",
        "! set -x \\\n",
        "&& pip install konlpy \\\n",
        "&& curl -s https://raw.githubusercontent.com/konlpy/konlpy/master/scripts/mecab.sh | bash -x \n",
        "!pip install pororo\n",
        "!pip install python-mecab-ko\n",
        "!pip install tqdm\n",
        "!pip install tqdm --upgrade\n",
        "!sudo apt-get install -y fonts-nanum\n",
        "!sudo fc-cache -fv\n",
        "!rm ~/.cache/matplotlib -rf"
      ],
      "metadata": {
        "id": "GuHr87gWeDlz"
      },
      "execution_count": null,
      "outputs": []
    },
    {
      "cell_type": "markdown",
      "source": [
        "### 사용자 구분"
      ],
      "metadata": {
        "id": "-a1WdXYdrf2A"
      }
    },
    {
      "cell_type": "code",
      "source": [
        "user = '성근'\n",
        "# user = '혜람'"
      ],
      "metadata": {
        "id": "uq7-lr-ApL08"
      },
      "execution_count": null,
      "outputs": []
    },
    {
      "cell_type": "code",
      "source": [
        "if user == '혜람' :\n",
        "    cd /content/drive/MyDrive/nlp/KnuSentiLex/data"
      ],
      "metadata": {
        "id": "DY7bFAMIpQgX"
      },
      "execution_count": null,
      "outputs": []
    },
    {
      "cell_type": "markdown",
      "source": [
        "### 패키지 import"
      ],
      "metadata": {
        "id": "DTPuop3FroBU"
      }
    },
    {
      "cell_type": "code",
      "source": [
        "import torch\n",
        "import torchvision\n",
        "import torch.nn\n",
        "import pandas as pd\n",
        "from sklearn.preprocessing import OrdinalEncoder\n",
        "import datetime\n",
        "import re \n",
        "import numpy as np\n",
        "import pandas as pd\n",
        "import matplotlib.pyplot as plt \n",
        "plt.style.use('seaborn-white')\n",
        "from konlpy.tag import Mecab \n",
        "from tensorflow.keras.preprocessing.text import Tokenizer\n",
        "from tensorflow.keras.preprocessing.sequence import pad_sequences\n",
        "import os \n",
        "import json\n",
        "from pororo import Pororo\n",
        "from konlpy.tag import Okt\n",
        "from konlpy.tag import Kkma\n",
        "from tqdm import tqdm\n",
        "import pickle\n",
        "from matplotlib import pyplot as plt\n",
        "import seaborn as sns"
      ],
      "metadata": {
        "id": "5jFVw-FG9FFt"
      },
      "execution_count": null,
      "outputs": []
    },
    {
      "cell_type": "markdown",
      "source": [
        "### GPU 활성화 확인"
      ],
      "metadata": {
        "id": "jfNPiF_crsAj"
      }
    },
    {
      "cell_type": "code",
      "source": [
        "torch.cuda.is_available()"
      ],
      "metadata": {
        "id": "V-nLvO4b9UrQ"
      },
      "execution_count": null,
      "outputs": []
    },
    {
      "cell_type": "markdown",
      "source": [
        "### DataFrame 불러오기"
      ],
      "metadata": {
        "id": "6g1NRhV3rvmK"
      }
    },
    {
      "cell_type": "code",
      "execution_count": null,
      "metadata": {
        "id": "2fz9qrbtgtt4"
      },
      "outputs": [],
      "source": [
        "if user == '성근' :\n",
        "    df = pd.read_csv('M_.csv', encoding='utf-8')\n",
        "\n",
        "elif user == '혜람' :\n",
        "    pass"
      ]
    },
    {
      "cell_type": "code",
      "source": [
        "df"
      ],
      "metadata": {
        "id": "UBV5lf--ynb_"
      },
      "execution_count": null,
      "outputs": []
    },
    {
      "cell_type": "markdown",
      "source": [
        "### channel_url, sender_nickname columns 인코딩\n"
      ],
      "metadata": {
        "id": "ZvQcqt2orzJo"
      }
    },
    {
      "cell_type": "code",
      "source": [
        "enc = OrdinalEncoder()\n",
        "df[['channel_url']] = enc.fit_transform(df[['channel_url']])"
      ],
      "metadata": {
        "id": "R8Fcp4xwhXtF"
      },
      "execution_count": null,
      "outputs": []
    },
    {
      "cell_type": "code",
      "source": [
        "df['channel_url'] = df['channel_url'].astype(\"int\")+1\n",
        "df = df.sort_values(by=['channel_url', 'created_at']).reset_index(level=None, drop=True)"
      ],
      "metadata": {
        "id": "kpolnEc9lXMZ"
      },
      "execution_count": null,
      "outputs": []
    },
    {
      "cell_type": "code",
      "source": [
        "pre = None\n",
        "now = None\n",
        "pre_date = None\n",
        "name_list = []\n",
        "name_dict = {}\n",
        "channel_startdate = []\n",
        "channel_lastdate = []\n",
        "for a, b, c in zip(df['channel_url'],df['sender_nickname'],df['created_at']) :\n",
        "    now = a\n",
        "    if pre != now :\n",
        "        count = 1\n",
        "        name_dict[b] = count\n",
        "        name_list.append(str(now)+\"-\"+str(name_dict[b]))\n",
        "        channel_startdate.append((c))\n",
        "        if pre_date != None :\n",
        "            channel_lastdate.append(pre_date)\n",
        "    else :\n",
        "        if b not in name_dict :\n",
        "            count += 1\n",
        "            name_dict[b] = count\n",
        "            name_list.append(str(now)+\"-\"+str(name_dict[b]))\n",
        "        else :\n",
        "            name_list.append(str(now)+\"-\"+str(name_dict[b]))\n",
        "    if df['channel_url'].iloc[-1] == a and df['sender_nickname'].iloc[-1] == b and df['created_at'].iloc[-1] == c :\n",
        "        channel_lastdate.append(c)\n",
        "    pre = now\n",
        "    pre_date = c"
      ],
      "metadata": {
        "id": "V2QtA01elmQJ"
      },
      "execution_count": null,
      "outputs": []
    },
    {
      "cell_type": "code",
      "source": [
        "df['sender_nickname'] = name_list"
      ],
      "metadata": {
        "id": "n-YTqX1NslPz"
      },
      "execution_count": null,
      "outputs": []
    },
    {
      "cell_type": "code",
      "source": [
        "df"
      ],
      "metadata": {
        "id": "gx8w2EHfzeau"
      },
      "execution_count": null,
      "outputs": []
    },
    {
      "cell_type": "markdown",
      "source": [
        "### 시간데이터 상세 구분 및 한국시간 표기"
      ],
      "metadata": {
        "id": "hMTsJ8DCr-IH"
      }
    },
    {
      "cell_type": "code",
      "source": [
        "year_list = []\n",
        "month_list = []\n",
        "day_list = []\n",
        "weekday_list = []\n",
        "time_list = []\n",
        "for date in df['created_at'] :\n",
        "    ymd, time = date.split(\"+\")\n",
        "    ymd = datetime.datetime.strptime(ymd, \"%Y-%m-%d %H:%M:%S\") + datetime.timedelta(hours=9)\n",
        "\n",
        "    year = ymd.year\n",
        "    month = ymd.month\n",
        "    day = ymd.day\n",
        "    time = ymd.time()\n",
        "    weekday = ymd.weekday()\n",
        "\n",
        "    year_list.append(year)\n",
        "    month_list.append(month)\n",
        "    day_list.append(day)\n",
        "    time_list.append(time)\n",
        "    weekday_list.append(weekday)"
      ],
      "metadata": {
        "id": "LCDPsYSgzfCF"
      },
      "execution_count": null,
      "outputs": []
    },
    {
      "cell_type": "code",
      "source": [
        "df['year'] = year_list\n",
        "df['month'] = month_list\n",
        "df['day'] = day_list\n",
        "df['time'] = time_list\n",
        "df['weekday'] = weekday_list"
      ],
      "metadata": {
        "id": "XXZfHGaH4gLa"
      },
      "execution_count": null,
      "outputs": []
    },
    {
      "cell_type": "code",
      "source": [
        "df = df.drop('created_at', axis=1)"
      ],
      "metadata": {
        "id": "U06tfZMn0aux"
      },
      "execution_count": null,
      "outputs": []
    },
    {
      "cell_type": "code",
      "source": [
        "df['weekday'] = df['weekday'].replace([0,1,2,3,4,5,6],['월','화','수','목','금','토','일'])"
      ],
      "metadata": {
        "id": "XW6YKYnZ0vGa"
      },
      "execution_count": null,
      "outputs": []
    },
    {
      "cell_type": "code",
      "source": [
        "df"
      ],
      "metadata": {
        "id": "e0KK_4Oz1eIa"
      },
      "execution_count": null,
      "outputs": []
    },
    {
      "cell_type": "markdown",
      "source": [
        "### 시간별 구분"
      ],
      "metadata": {
        "id": "TlbC_6h9sECZ"
      }
    },
    {
      "cell_type": "code",
      "source": [
        "hour_list = []\n",
        "hour2_list = []\n",
        "for t in df['time'] :\n",
        "    hour_list.append(t.hour)\n",
        "    if t.hour == 0 :\n",
        "        hour2_list.append(t.hour)\n",
        "    elif t.hour%2 == 0 :\n",
        "        hour2_list.append(t.hour)\n",
        "    elif t.hour%2 == 1 :\n",
        "        hour2_list.append(t.hour-1)"
      ],
      "metadata": {
        "id": "RysTg2952XsE"
      },
      "execution_count": null,
      "outputs": []
    },
    {
      "cell_type": "code",
      "source": [
        "df['hour'] = hour_list\n",
        "df['hour2'] = hour2_list"
      ],
      "metadata": {
        "id": "7S6VXTBB7AmR"
      },
      "execution_count": null,
      "outputs": []
    },
    {
      "cell_type": "code",
      "source": [
        "df"
      ],
      "metadata": {
        "id": "Zk_9cV2D7Ggp"
      },
      "execution_count": null,
      "outputs": []
    },
    {
      "cell_type": "markdown",
      "source": [
        "### 시간별, 요일별, 채널별 메세지 수 시각화"
      ],
      "metadata": {
        "id": "zFlgarHxsIyj"
      }
    },
    {
      "cell_type": "code",
      "source": [
        "df_hour = df.groupby('hour').count()[['message']]\n",
        "df_hour2 = df.groupby('hour2').count()[['message']]\n",
        "df_weekday = df.groupby('weekday').count()[['message']]\n",
        "df_channel = df.groupby('channel_url').count()[['message']]"
      ],
      "metadata": {
        "id": "eCE4GwRg7HMt"
      },
      "execution_count": null,
      "outputs": []
    },
    {
      "cell_type": "code",
      "source": [
        "df_hour.T"
      ],
      "metadata": {
        "id": "iz8ze7h3-l95"
      },
      "execution_count": null,
      "outputs": []
    },
    {
      "cell_type": "code",
      "source": [
        "df_hour2.T"
      ],
      "metadata": {
        "id": "-hus-uf_APXU"
      },
      "execution_count": null,
      "outputs": []
    },
    {
      "cell_type": "code",
      "source": [
        "df_weekday_rev = df_weekday.T[['월','화','수','목','금','토','일']]\n",
        "df_weekday_rev"
      ],
      "metadata": {
        "id": "LCAsqXbdAj7j"
      },
      "execution_count": null,
      "outputs": []
    },
    {
      "cell_type": "code",
      "source": [
        "sns.barplot(data=df_hour.T)\n",
        "plt.show()"
      ],
      "metadata": {
        "id": "-77aU0M2_GSo"
      },
      "execution_count": null,
      "outputs": []
    },
    {
      "cell_type": "code",
      "source": [
        "sns.barplot(data=df_hour2.T)\n",
        "plt.show()"
      ],
      "metadata": {
        "id": "MP1G3_MY_Fku"
      },
      "execution_count": null,
      "outputs": []
    },
    {
      "cell_type": "code",
      "source": [
        "plt.rc('font', family='NanumBarunGothic')\n",
        "sns.barplot(data=df_weekday_rev)\n",
        "plt.show()"
      ],
      "metadata": {
        "id": "c3bN0dvlACXb"
      },
      "execution_count": null,
      "outputs": []
    },
    {
      "cell_type": "code",
      "source": [
        "sns.barplot(data=df_channel.T)\n",
        "plt.show()"
      ],
      "metadata": {
        "id": "lMbhUrMGA9g-"
      },
      "execution_count": null,
      "outputs": []
    },
    {
      "cell_type": "markdown",
      "source": [
        "### 채널별 첫 메세지 시간, 마지막 메세지 시간, 생존기간 표기"
      ],
      "metadata": {
        "id": "TGelTNwnsO5h"
      }
    },
    {
      "cell_type": "code",
      "source": [
        "channel_startdate_rev = []\n",
        "for date in channel_startdate :\n",
        "    ymd, time = date.split(\"+\")\n",
        "    ymd = datetime.datetime.strptime(ymd, \"%Y-%m-%d %H:%M:%S\") + datetime.timedelta(hours=9)\n",
        "\n",
        "    channel_startdate_rev.append(ymd)\n",
        "\n",
        "channel_lastdate_rev = []\n",
        "for date in channel_lastdate :\n",
        "    ymd, time = date.split(\"+\")\n",
        "    ymd = datetime.datetime.strptime(ymd, \"%Y-%m-%d %H:%M:%S\") + datetime.timedelta(hours=9)\n",
        "\n",
        "    channel_lastdate_rev.append(ymd)"
      ],
      "metadata": {
        "id": "E7hJkUyRDGuw"
      },
      "execution_count": null,
      "outputs": []
    },
    {
      "cell_type": "code",
      "source": [
        "df_channel['start'] = channel_startdate_rev\n",
        "df_channel['last'] = channel_lastdate_rev\n",
        "df_channel['channel_survived'] = df_channel['last']-df_channel['start']"
      ],
      "metadata": {
        "id": "EBgkosfBIR5T"
      },
      "execution_count": null,
      "outputs": []
    },
    {
      "cell_type": "code",
      "source": [
        "df_channel.sort_values(by='channel_survived', ascending=False).head()"
      ],
      "metadata": {
        "id": "anShngHVJdZS"
      },
      "execution_count": null,
      "outputs": []
    },
    {
      "cell_type": "markdown",
      "source": [
        "### 하루당 메세지 수 표기"
      ],
      "metadata": {
        "id": "0oLNmOOfsYE5"
      }
    },
    {
      "cell_type": "code",
      "source": [
        "message_per_day = []\n",
        "for a,b in zip(df_channel['message'],df_channel['channel_survived']) :\n",
        "    time = int(str(b).split(\" \")[0])\n",
        "    if time == 0 :\n",
        "        message_per_day.append(0)\n",
        "    else :\n",
        "        answer = a//time\n",
        "        message_per_day.append(answer)"
      ],
      "metadata": {
        "id": "yLoToy7eMlfa"
      },
      "execution_count": null,
      "outputs": []
    },
    {
      "cell_type": "code",
      "source": [
        "df_channel['message_per_day'] = message_per_day\n",
        "df_channel#.sort_values(by='message_per_day', ascending=False).head(50)"
      ],
      "metadata": {
        "id": "nkfFNxYnSNt9"
      },
      "execution_count": null,
      "outputs": []
    },
    {
      "cell_type": "markdown",
      "source": [
        "### 입장, 퇴장 수 카운트, 생존비율 표기\n",
        "\n"
      ],
      "metadata": {
        "id": "8nWs8VCTsbzx"
      }
    },
    {
      "cell_type": "code",
      "source": [
        "pre1 = None\n",
        "now1 = None\n",
        "in_count = 0\n",
        "out_count = 0\n",
        "in_list = []\n",
        "out_list = []\n",
        "for a,b in zip(df['channel_url'],df['message']) :\n",
        "    now1 = a\n",
        "    if now1 != pre1 and pre1 != None :\n",
        "        in_list.append(in_count)\n",
        "        out_list.append(out_count)\n",
        "        in_count = 0\n",
        "        out_count = 0\n",
        "    if '참여했습니다.' in b :\n",
        "        in_count += 1\n",
        "    if '나갔습니다.' in b :\n",
        "        out_count += 1\n",
        "    if a == df['channel_url'].iloc[-1] and b == df['message'].iloc[-1] :\n",
        "        in_list.append(in_count)\n",
        "        out_list.append(out_count)\n",
        "    pre1 = now1\n"
      ],
      "metadata": {
        "id": "DpYeaViHBnS6"
      },
      "execution_count": null,
      "outputs": []
    },
    {
      "cell_type": "code",
      "source": [
        "df_channel['in_count'] = in_list\n",
        "df_channel['out_count'] = out_list\n",
        "df_channel['people_survived(%)'] = round((df_channel['in_count']-df_channel['out_count'])/df_channel['in_count']*100, 2)"
      ],
      "metadata": {
        "id": "CB6AlkrtK-ij"
      },
      "execution_count": null,
      "outputs": []
    },
    {
      "cell_type": "code",
      "source": [
        "df_channel.sort_values(by=['message_per_day', 'people_survived(%)'], ascending=False)"
      ],
      "metadata": {
        "id": "M0qfu1G_LwW_"
      },
      "execution_count": null,
      "outputs": []
    },
    {
      "cell_type": "markdown",
      "source": [
        "### 데이터 저장"
      ],
      "metadata": {
        "id": "iG_pM_WSs45G"
      }
    },
    {
      "cell_type": "code",
      "source": [
        "with open(\"df.pickle\",\"wb\") as fw3:\n",
        "    pickle.dump(df, fw3)\n",
        "\n",
        "with open(\"df_channel.pickle\",\"wb\") as fw4:\n",
        "    pickle.dump(df_channel, fw4)"
      ],
      "metadata": {
        "id": "2nBNf9WuqVsW"
      },
      "execution_count": null,
      "outputs": []
    },
    {
      "cell_type": "markdown",
      "source": [
        "### 메세지 정규표현식 적용(한글)"
      ],
      "metadata": {
        "id": "MVMZo9SH_Uug"
      }
    },
    {
      "cell_type": "code",
      "source": [
        "df['message']=df['message'].str.replace(\"[^ㄱ-ㅎ ㅏ-ㅣ 가-힣 ]\", \"\") #^: not임\n",
        "df['message'][:30]"
      ],
      "metadata": {
        "id": "E_P0-RRh_dLz"
      },
      "execution_count": null,
      "outputs": []
    },
    {
      "cell_type": "markdown",
      "source": [
        "### 결측치 제거"
      ],
      "metadata": {
        "id": "mENs11yLz0gB"
      }
    },
    {
      "cell_type": "code",
      "source": [
        "df_message = df\n",
        "df_message['message'] = df_message['message'].replace('',np.nan)\n",
        "print(len(df))\n",
        "print(df.isnull().sum())"
      ],
      "metadata": {
        "id": "jViPG8gT_dOZ"
      },
      "execution_count": null,
      "outputs": []
    },
    {
      "cell_type": "code",
      "source": [
        "df_message=df_message.dropna(how='any')\n",
        "print(len(df_message))"
      ],
      "metadata": {
        "id": "FK1dSIAa_dQq"
      },
      "execution_count": null,
      "outputs": []
    },
    {
      "cell_type": "code",
      "source": [
        "drop_index = df_message[df_message['message'].str.contains('참여했습니다|나갔습니다')].index\n",
        "drop_index\n",
        "\n",
        "try :\n",
        "    df_message.drop(drop_index, inplace=True)\n",
        "except :\n",
        "    pass"
      ],
      "metadata": {
        "id": "3ITQTKwNx6A8"
      },
      "execution_count": null,
      "outputs": []
    },
    {
      "cell_type": "code",
      "source": [
        "len(df_message)"
      ],
      "metadata": {
        "id": "4xBz55dbz-TJ"
      },
      "execution_count": null,
      "outputs": []
    },
    {
      "cell_type": "markdown",
      "source": [
        "### 불용어 설정"
      ],
      "metadata": {
        "id": "GxFcN7eg0EAf"
      }
    },
    {
      "cell_type": "code",
      "source": [
        "stopwords=['의','가','이','은','들','는','좀','잘','걍','과','도','를','으로','자','에','와','한','하다','거',\n",
        "           '것','듯','게','게요','전','난','일','걸','잼','데','땐','ㅁ','그','나','내','그건','그걸','너','님','저'] "
      ],
      "metadata": {
        "id": "d0jZc5fp_dTI"
      },
      "execution_count": null,
      "outputs": []
    },
    {
      "cell_type": "markdown",
      "source": [
        "### Pororo 활용한 긍정, 부정 추출 - 문장 단위"
      ],
      "metadata": {
        "id": "DVOfVzAM0I-T"
      }
    },
    {
      "cell_type": "code",
      "source": [
        "sentiment = Pororo(task=\"sentiment\", model=\"brainbert.base.ko.nsmc\", lang=\"ko\")\n",
        "sentiment2 = Pororo(task=\"sentiment\", model=\"brainbert.base.ko.shopping\", lang=\"ko\")"
      ],
      "metadata": {
        "id": "ZIw5Fqv_zi5X"
      },
      "execution_count": null,
      "outputs": []
    },
    {
      "cell_type": "code",
      "source": [
        "# Pororo에서 512 이상을 지원하지 않아, 512보다 큰 문장을 나눠서 계산함.\n",
        "\n",
        "def feel_count(message) :\n",
        "    if len(message) < 512 :\n",
        "        return int(sentiment(message).replace('Positive','1').replace('Negative','-1'))\n",
        "    else :\n",
        "        return int(feel_count(message[:len(message)//2])) + int(feel_count(message[len(message)//2:]))\n",
        "\n",
        "def feel_count2(message) :\n",
        "    if len(message) < 512 :\n",
        "        return int(sentiment2(message).replace('Positive','1').replace('Negative','-1'))\n",
        "    else :\n",
        "        return int(feel_count(message[:len(message)//2])) + int(feel_count(message[len(message)//2:]))"
      ],
      "metadata": {
        "id": "R4oRrTuO8Qn-"
      },
      "execution_count": null,
      "outputs": []
    },
    {
      "cell_type": "code",
      "source": [
        "df_message[\"sentiment\"]=df_message[\"message\"].apply(lambda x: feel_count(x))\n",
        "df_message[\"sentiment_shop\"]=df_message[\"message\"].apply(lambda x: feel_count2(x))"
      ],
      "metadata": {
        "id": "onTWByms3mq2"
      },
      "execution_count": null,
      "outputs": []
    },
    {
      "cell_type": "code",
      "source": [
        "# 나눠서 계산한 값을 긍정은 1 부정은 -1 로 계산해서 더한 후 문장 전체적인 긍정과 부정으로 나누었음\n",
        "\n",
        "sen_list = []\n",
        "for sentiment in df_message['sentiment'] :\n",
        "    if sentiment > 0 :\n",
        "        sen_list.append('Positive')\n",
        "    else :\n",
        "        sen_list.append('Negative')\n",
        "\n",
        "sen_list2 = []\n",
        "for sentiment in df_message['sentiment_shop'] :\n",
        "    if sentiment > 0 :\n",
        "        sen_list2.append('Positive')\n",
        "    else :\n",
        "        sen_list2.append('Negative')"
      ],
      "metadata": {
        "id": "6TXP1Bpz8PPT"
      },
      "execution_count": null,
      "outputs": []
    },
    {
      "cell_type": "code",
      "source": [
        "df_message['sentiment'] = sen_list\n",
        "df_message['sentiment_shop'] = sen_list2\n",
        "df_message"
      ],
      "metadata": {
        "id": "4kiwIA2F8PZe"
      },
      "execution_count": null,
      "outputs": []
    },
    {
      "cell_type": "markdown",
      "source": [
        "### 문장에서 단어 추출 okt 활용"
      ],
      "metadata": {
        "id": "v29pCl5T0pHw"
      }
    },
    {
      "cell_type": "code",
      "source": [
        "okt = Okt()"
      ],
      "metadata": {
        "id": "Z8BCyTHi8PmL"
      },
      "execution_count": null,
      "outputs": []
    },
    {
      "cell_type": "code",
      "source": [
        "nouns=[]\n",
        "for sentence in tqdm(df_message['message']):\n",
        "  nouns.append([word for word in okt.nouns(sentence) if not word in stopwords])"
      ],
      "metadata": {
        "id": "d47wvQzW8PnR"
      },
      "execution_count": null,
      "outputs": []
    },
    {
      "cell_type": "code",
      "source": [
        "df_message['okt'] = nouns"
      ],
      "metadata": {
        "id": "fpIVhMdg8Pod"
      },
      "execution_count": null,
      "outputs": []
    },
    {
      "cell_type": "code",
      "source": [
        "df_message"
      ],
      "metadata": {
        "id": "D0M-R9yC8Ppm"
      },
      "execution_count": null,
      "outputs": []
    },
    {
      "cell_type": "markdown",
      "source": [
        "### 단어별로 긍정 1 부정 -1로 계산하여 합산"
      ],
      "metadata": {
        "id": "5fSeJjEQ0t3N"
      }
    },
    {
      "cell_type": "code",
      "source": [
        "sentiment = Pororo(task=\"sentiment\", model=\"brainbert.base.ko.nsmc\", lang=\"ko\")\n",
        "sentiment2 = Pororo(task=\"sentiment\", model=\"brainbert.base.ko.shopping\", lang=\"ko\")"
      ],
      "metadata": {
        "id": "bxlZOvjJ_lr9"
      },
      "execution_count": null,
      "outputs": []
    },
    {
      "cell_type": "code",
      "source": [
        "okt_score = []\n",
        "okt_score2 = []\n",
        "for okt in tqdm(df_message['okt']) :\n",
        "    score = 0\n",
        "    score2 = 0\n",
        "    try :\n",
        "        for okt2 in okt :\n",
        "            score = score + int(sentiment(okt2).replace('Positive','1').replace('Negative','-1'))\n",
        "            score2 = score2 + int(sentiment2(okt2).replace('Positive','1').replace('Negative','-1'))\n",
        "        okt_score.append(score)\n",
        "        okt_score2.append(score2)\n",
        "\n",
        "    except :\n",
        "        okt_score.append(score)\n",
        "        okt_score2.append(score2)\n",
        "        continue"
      ],
      "metadata": {
        "id": "p-4wNYkP8Pqy"
      },
      "execution_count": null,
      "outputs": []
    },
    {
      "cell_type": "code",
      "source": [
        "df_message['okt_score'] = okt_score\n",
        "df_message['okt_score_shop'] = okt_score2\n",
        "df_message"
      ],
      "metadata": {
        "id": "dCD6h-k4u9NW"
      },
      "execution_count": null,
      "outputs": []
    },
    {
      "cell_type": "markdown",
      "source": [
        "### 긍정, 부정의 평균값 확인"
      ],
      "metadata": {
        "id": "5OTC3yY70_Lq"
      }
    },
    {
      "cell_type": "code",
      "source": [
        "df_message['okt_score'].sum()/len(df_message['okt_score'])"
      ],
      "metadata": {
        "id": "I3SgLfwSyZ30"
      },
      "execution_count": null,
      "outputs": []
    },
    {
      "cell_type": "code",
      "source": [
        "df_message['okt_score_shop'].sum()/len(df_message['okt_score_shop'])"
      ],
      "metadata": {
        "id": "207VuuVj87wE"
      },
      "execution_count": null,
      "outputs": []
    },
    {
      "cell_type": "markdown",
      "source": [
        "### 보기 편하게 컬럼 위치 수정"
      ],
      "metadata": {
        "id": "YdMGxRnj1GSp"
      }
    },
    {
      "cell_type": "code",
      "source": [
        "df_message.columns"
      ],
      "metadata": {
        "id": "tihsrG1tabmW"
      },
      "execution_count": null,
      "outputs": []
    },
    {
      "cell_type": "code",
      "source": [
        "df_message = df_message[['channel_url', 'sender_nickname', 'type', 'message', 'year', 'month',\n",
        "       'day', 'time', 'weekday', 'hour', 'hour2', 'sentiment', 'sentiment_shop', 'okt',\n",
        "       'okt_score', 'okt_score_shop']]"
      ],
      "metadata": {
        "id": "co0jIJL-ajR6"
      },
      "execution_count": null,
      "outputs": []
    },
    {
      "cell_type": "code",
      "source": [
        "df_message.iloc[550:600]"
      ],
      "metadata": {
        "id": "NRw84iuAa2fU"
      },
      "execution_count": null,
      "outputs": []
    },
    {
      "cell_type": "code",
      "source": [
        "with open(\"df_message_rev.pickle\",\"wb\") as fw:\n",
        "    pickle.dump(df_message, fw)\n",
        "\n",
        "with open(\"df_rev.pickle\",\"wb\") as fw2:\n",
        "    pickle.dump(df, fw2)"
      ],
      "metadata": {
        "id": "9kZ61e0Na-MF"
      },
      "execution_count": null,
      "outputs": []
    }
  ]
}